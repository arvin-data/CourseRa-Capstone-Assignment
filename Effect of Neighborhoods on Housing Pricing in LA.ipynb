{
    "cells": [
        {
            "cell_type": "markdown",
            "metadata": {
                "collapsed": true
            },
            "source": "<h1 align=center> <font size = 5>Effect of Neighborhoods on Housing Pricing in City of Los Angeles<font>"
        },
        {
            "cell_type": "markdown",
            "metadata": {},
            "source": " ## Table of Contents\n \n<div class=\"alert alert-block alert-info\" style=\"margin-top: 20px\">\n   \n<font size = 4> [1- Introduction](#part1) \n    \n[2- Data Description](#part2)\n    \n[Refrences](#part3)\n    \n</div>"
        },
        {
            "cell_type": "markdown",
            "metadata": {},
            "source": "## <a name=\"part1\"> 1- Introduction"
        },
        {
            "cell_type": "markdown",
            "metadata": {},
            "source": "### 1-1- Housing in Los Angeles"
        },
        {
            "cell_type": "markdown",
            "metadata": {},
            "source": "Los Angeles County is the most populous county in the United States, with more than ten million inhabitants as of 2018. It has 88 incorporated cities and many unincorporated areas at 4,083 square miles. Its county seat, Los Angeles, is also California's most populous city and the second most populous city in the U.S., with about four million residents [1].\nLos Angeles County, like most metropolitan cities, has its own housing issue. At the census of 2000, there were 3,133,774 households, and 2,137,233 families in the county. The population density was 2,344 people per square mile. There were 3,270,909 housing units at an average density of 806 per square mile. The homeownership rate is 47.9%, and the median value for houses is $409,300. 42.2% of housing units are in multi-unit structures [1].\nThe 2010 United States Census reported Los Angeles had a population of 3,792,621. The population density was 8,092.3 people per square mile. There were 1,413,995 housing units at an average density of 2,812.8 households per square mile, of which 503,863 (38.2%) were owner-occupied, and 814,305 (61.8%) were occupied by renters. The homeowner vacancy rate was 2.1%; the rental vacancy rate was 6.1%. 1,535,444 people (40.5% of the population) lived in owner-occupied housing units and 2,172,576 people (57.3%) lived in rental housing units [2].\n"
        },
        {
            "cell_type": "markdown",
            "metadata": {},
            "source": "### 1-2- Problem"
        },
        {
            "cell_type": "markdown",
            "metadata": {},
            "source": "Due to high demand and low supply (available houses for sale), Los Angeles housing market is very competitive and real estates average selling price is above nation average. Redfin, a real estate company, describes housing market in LA as follow giving a compete score of 71 (very competitive) [3]:\n\n* Many homes get multiple offers, some with waived contingencies\n* Homes sell for around list price and go pending in around 43 days\n* Hot Homes can sell for about 3% above list price and go pending in around 21 days\n\nIn such a competitive market, evaluating housing price is very important. Different factors such as housing type (single family residential, condo or townhouse), neighborhood, property square footage, number of beds and baths, etc.\u2026 will affect on housing pricing. While evaluating each of mentioned factors requires a separate study, here we will focus on how housing price is related to its neighborhood. The goal is to answer this question:\n**_\u201cDo similar neighborhoods have same average selling price per square footage?\u201d_**\n"
        },
        {
            "cell_type": "markdown",
            "metadata": {},
            "source": "### 1-3- Methodology"
        },
        {
            "cell_type": "markdown",
            "metadata": {},
            "source": "This study is divided into two sections. First a dataset of Los Angeles neighborhoods will be created. Using Foursquare API searching tool, these neighborhoods will be clustered in similar groups based on common venues in each neighborhood. In order to have a better visual understanding, using Follium library, we will create a map of clustered neighborhoods.\n\nIn second section, data for sold houses prices in each neighborhoods will be collected and sorted. The average seeling price per square foot will be calculated for each neighborhood.\n\nBy comparing the data from these two sections, we will try to find an answer for our question."
        },
        {
            "cell_type": "markdown",
            "metadata": {},
            "source": "## <a name=\"part2\"> 2- Data Description "
        },
        {
            "cell_type": "markdown",
            "metadata": {},
            "source": "Based on described methodology, two sets of data for Los Angeles Neighborhood and Housing prices will be needed. In this section, we will review data sources and briefly present how data will be cleaned and wrangled for this study purpose."
        },
        {
            "cell_type": "markdown",
            "metadata": {},
            "source": "### 2-1- Los Angeles Neighborhoods"
        },
        {
            "cell_type": "markdown",
            "metadata": {},
            "source": "To acquire Los Angeles neighborhoods data, we will  use information from Neighborhood Data for Social Change (NDSC) platform [4]. NDSC is a project of the University of Southern California Price Center for Social Innovation.  It is a free, publicly available online resource for civic actors to learn about their neighborhoods.\nThis data set includes geographical information for about 272 city/neighborhoods within Los Angeles County. There are three main neighborhood category in this dataset, namely: \n\n* unincorporated-area (71 neighborhood)\n* segment-of-a-city, referring to city of Los Angeles (114 neighborhood)\n* standalone-city (87 city/neighborhood) \n\nUnincorporated-areas are not populated and developed as other neighborhoods and are out of scope of this study. Also some standalone cities have their own pricing, sometimes double county average, which can result to a outlier in data set. Therefore we limit this study to neighborhoods within city of Los Angeles (114 neighborhoods).\n\nThe dataset from NDSC will be cleaned and wrangled to only include target neighborhoods. Unnecessary data will be deleted and at the end the dataset will include neighborhood name, latitude and longitude.\n"
        },
        {
            "cell_type": "markdown",
            "metadata": {},
            "source": "### 2-2- Los Angeles Housing Prices"
        },
        {
            "cell_type": "markdown",
            "metadata": {},
            "source": "Redfin [5] website is the source for housing pricing in this study. This  Seattle based company provides a comprehensive data for sold houses within each city, neighborhood or even zip code. Using Redfin search tool for city of Los Angeles, we can create a dataset of sold houses for different property type and given period of time (up to last three years). We will select our data set based on following condition\n\n* To avoid complication in house pricing over the years such as annual inflation rate or market surge in a specific time, we will limit our search for last on year. \n* single family houses have a different pricing standard comparing to condos and town homes, therefore our data set will exclude only sold condos and town homes.\n* Property size will be limited to 2,000 square feet.\n\nApplying above criteria in Redfin search tool will result in about 6,500 cases (it's should be noted that this number is being updated on daily bases and in any given date the total number couls be different). This dataset includes information such as property type, address, city, number of beds and baths, sold price, square feet, $/square feet, latitude and longitude. For purpose of our study columns containing information for city where property is located, average price per square feet, latitude and longitude is required. Dataset will be cleaned to include only this information. \n"
        },
        {
            "cell_type": "markdown",
            "metadata": {},
            "source": "### <a name=\"part3\"> References"
        },
        {
            "cell_type": "markdown",
            "metadata": {},
            "source": "1- [Los Angeles County, California, Wikipedia, https://en.wikipedia.org/wiki/Los_Angeles_County,_California](https://en.wikipedia.org/wiki/Los_Angeles_County,_California)\n\n2- [City of Los Angeles, Wikipedia, https://en.wikipedia.org/wiki/Los_Angeles](https://en.wikipedia.org/wiki/Los_Angeles)\n\n3- [Los Angeles Housing Market Insight, Redfin, https://www.redfin.com/city/11203/CA/Los-Angeles/housing-market](https://www.redfin.com/city/11203/CA/Los-Angeles/housing-market)\n\n4- [Los Angeles Neighborhoods, Neighborhood Data for Social Change (NDSC),https://usc.data.socrata.com/dataset/Los-Angeles-Neighborhood-Map/r8qd-yxsr](https://usc.data.socrata.com/dataset/Los-Angeles-Neighborhood-Map/r8qd-yxsr)\n\n5- [Sold Properties in City of Los Angeles, Redfin ](https://www.redfin.com/city/11203/CA/Los-Angeles/filter/property-type=condo+townhouse,max-sqft=2k-sqft,include=sold-1yr)"
        }
    ],
    "metadata": {
        "kernelspec": {
            "display_name": "Python 3.6",
            "language": "python",
            "name": "python3"
        },
        "language_info": {
            "codemirror_mode": {
                "name": "ipython",
                "version": 3
            },
            "file_extension": ".py",
            "mimetype": "text/x-python",
            "name": "python",
            "nbconvert_exporter": "python",
            "pygments_lexer": "ipython3",
            "version": "3.6.9"
        }
    },
    "nbformat": 4,
    "nbformat_minor": 1
}